{
 "cells": [
  {
   "cell_type": "code",
   "execution_count": 1,
   "metadata": {
    "scrolled": false
   },
   "outputs": [],
   "source": [
    "import csv\n",
    "import MeCab\n",
    "import numpy\n",
    "import pandas as pd\n",
    "import codecs\n",
    "import gspread\n",
    "import re\n",
    "from collections import Counter\n"
   ]
  },
  {
   "cell_type": "code",
   "execution_count": 6,
   "metadata": {},
   "outputs": [],
   "source": [
    "#ServiceAccountCredentials：Googleの各サービスへアクセスできるservice変数を生成します。\n",
    "from oauth2client.service_account import ServiceAccountCredentials \n",
    "\n",
    "#2つのAPIを記述しないとリフレッシュトークンを3600秒毎に発行し続けなければならない\n",
    "scope = ['https://spreadsheets.google.com/feeds','https://www.googleapis.com/auth/drive']\n",
    "\n",
    "#認証情報設定\n",
    "#ダウンロードしたjsonファイル名をクレデンシャル変数に設定（秘密鍵、Pythonファイルから読み込みしやすい位置に置く）\n",
    "credentials = ServiceAccountCredentials.from_json_keyfile_name('gspread-analysis-8f05a4397da8.json', scope)\n",
    "\n",
    "#OAuth2の資格情報を使用してGoogle APIにログインします。\n",
    "gc = gspread.authorize(credentials)\n",
    "\n",
    "# スプレッドシートキーを指定してワークブックを選択\n",
    "# https://docs.google.com/spreadsheets/d/1wo7nIwKel-4RRsvKZfksNt7zmQgrQG_AI4oorGryPa0/edit#gid=0\n",
    "workbook = gc.open_by_key('1wo7nIwKel-4RRsvKZfksNt7zmQgrQG_AI4oorGryPa0')\n",
    "worksheet = workbook.worksheet('出力先')"
   ]
  },
  {
   "cell_type": "code",
   "execution_count": 7,
   "metadata": {
    "scrolled": false
   },
   "outputs": [
    {
     "data": {
      "text/html": [
       "<div>\n",
       "<style scoped>\n",
       "    .dataframe tbody tr th:only-of-type {\n",
       "        vertical-align: middle;\n",
       "    }\n",
       "\n",
       "    .dataframe tbody tr th {\n",
       "        vertical-align: top;\n",
       "    }\n",
       "\n",
       "    .dataframe thead th {\n",
       "        text-align: right;\n",
       "    }\n",
       "</style>\n",
       "<table border=\"1\" class=\"dataframe\">\n",
       "  <thead>\n",
       "    <tr style=\"text-align: right;\">\n",
       "      <th></th>\n",
       "    </tr>\n",
       "    <tr>\n",
       "      <th>comment</th>\n",
       "    </tr>\n",
       "  </thead>\n",
       "  <tbody>\n",
       "    <tr>\n",
       "      <th>ナビ通りでない道で、指示が遅く嫌な態度をされました。</th>\n",
       "    </tr>\n",
       "    <tr>\n",
       "      <th>アルコール持ち込みと飲食。汚したりとかの問題はなかったですが。</th>\n",
       "    </tr>\n",
       "    <tr>\n",
       "      <th>外国人名かと思ったら日本の方。しかも最初は自分の登録した名前も言えず、使い方が少々いい加減に感じた。</th>\n",
       "    </tr>\n",
       "  </tbody>\n",
       "</table>\n",
       "</div>"
      ],
      "text/plain": [
       "Empty DataFrame\n",
       "Columns: []\n",
       "Index: [ナビ通りでない道で、指示が遅く嫌な態度をされました。, アルコール持ち込みと飲食。汚したりとかの問題はなかったですが。, 外国人名かと思ったら日本の方。しかも最初は自分の登録した名前も言えず、使い方が少々いい加減に感じた。]"
      ]
     },
     "execution_count": 7,
     "metadata": {},
     "output_type": "execute_result"
    }
   ],
   "source": [
    "# csv_file ='data.csv' #Crew開始後パートナーからライダーへの評価コメント\n",
    "csv_file = 'data201902-04.csv' #2月以降のパートナーからライダーへの評価コメント\n",
    "# csv_file = 'data4.csv' #　ライダー通報パートナー詳細コメント\n",
    "# csv_file = 'data5.csv' #　ライダー通報パートナー詳細コメント（10件以上の投稿しているユーザーは除外）\n",
    "data = pd.read_csv(csv_file,usecols=[1], index_col='comment' )\n",
    "data.head(3)"
   ]
  },
  {
   "cell_type": "code",
   "execution_count": 22,
   "metadata": {
    "scrolled": false
   },
   "outputs": [],
   "source": [
    "# ファイル読み込み\n",
    "with open(csv_file) as f:\n",
    "    data = f.read()\n",
    "\n",
    "#print(data)\n",
    "# パース\n",
    "mecab = MeCab.Tagger()\n",
    "parse = mecab.parse(data)\n",
    "lines = parse.split('\\n')"
   ]
  },
  {
   "cell_type": "code",
   "execution_count": 32,
   "metadata": {},
   "outputs": [
    {
     "ename": "NameError",
     "evalue": "name 'counter' is not defined",
     "output_type": "error",
     "traceback": [
      "\u001b[0;31m---------------------------------------------------------------------------\u001b[0m",
      "\u001b[0;31mNameError\u001b[0m                                 Traceback (most recent call last)",
      "\u001b[0;32m<ipython-input-32-b90f79a0bcc6>\u001b[0m in \u001b[0;36m<module>\u001b[0;34m\u001b[0m\n\u001b[1;32m      7\u001b[0m \u001b[0;34m\u001b[0m\u001b[0m\n\u001b[1;32m      8\u001b[0m \u001b[0;34m\u001b[0m\u001b[0m\n\u001b[0;32m----> 9\u001b[0;31m \u001b[0;32mfor\u001b[0m \u001b[0mword\u001b[0m\u001b[0;34m,\u001b[0m \u001b[0mcount\u001b[0m \u001b[0;32min\u001b[0m \u001b[0mcounter\u001b[0m\u001b[0;34m.\u001b[0m\u001b[0mmost_common\u001b[0m\u001b[0;34m(\u001b[0m\u001b[0;34m)\u001b[0m\u001b[0;34m:\u001b[0m\u001b[0;34m\u001b[0m\u001b[0;34m\u001b[0m\u001b[0m\n\u001b[0m\u001b[1;32m     10\u001b[0m     \u001b[0mprint\u001b[0m\u001b[0;34m(\u001b[0m\u001b[0;34mf\"{word}: {count}\"\u001b[0m\u001b[0;34m)\u001b[0m\u001b[0;34m\u001b[0m\u001b[0;34m\u001b[0m\u001b[0m\n",
      "\u001b[0;31mNameError\u001b[0m: name 'counter' is not defined"
     ]
    }
   ],
   "source": [
    "items = (re.split('[\\t,]', line) for line in lines)\n",
    "# 名詞をリストに格納\n",
    "words = [item[0]\n",
    "         for item in items\n",
    "         if (item[0] not in ('EOS', '', 't', 'ー') and\n",
    "             item[1] == '名詞' and item[2] == '一般')]\n",
    "\n",
    "\n",
    "for word, count in counter.most_common():\n",
    "    print(f\"{word}: {count}\")\n"
   ]
  },
  {
   "cell_type": "code",
   "execution_count": 6,
   "metadata": {},
   "outputs": [],
   "source": [
    "# hoge = counter.most_common()\n",
    "# hoge[1][0]\n",
    "\n",
    "# for word, count in counter.most_common():\n",
    "#     print(f\"{word}: {count}\")\n",
    "\n",
    "# fs = counter.most_common()\n",
    "# with open('hogehoge.csv', 'w') as file:\n",
    "#     writer = csv.writer(file, lineterminator='\\n')\n",
    "#     writer.writerow(fs)\n"
   ]
  },
  {
   "cell_type": "code",
   "execution_count": null,
   "metadata": {},
   "outputs": [],
   "source": []
  }
 ],
 "metadata": {
  "kernelspec": {
   "display_name": "Python 3",
   "language": "python",
   "name": "python3"
  },
  "language_info": {
   "codemirror_mode": {
    "name": "ipython",
    "version": 3
   },
   "file_extension": ".py",
   "mimetype": "text/x-python",
   "name": "python",
   "nbconvert_exporter": "python",
   "pygments_lexer": "ipython3",
   "version": "3.7.3"
  }
 },
 "nbformat": 4,
 "nbformat_minor": 2
}
